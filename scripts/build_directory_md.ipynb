{
 "cells": [
  {
   "cell_type": "code",
   "execution_count": null,
   "id": "c11174df",
   "metadata": {},
   "outputs": [],
   "source": [
    "\"\"\"module.\"\"\"\n",
    "import os\n",
    "from collections.abc import Iterator"
   ]
  },
  {
   "cell_type": "code",
   "execution_count": null,
   "id": "ca093b22",
   "metadata": {},
   "outputs": [],
   "source": [
    "def good_file_paths(top_dir: str = \".\") -> Iterator[str]:\n",
    "    \"\"\"SENATOROV.\"\"\"\n",
    "    for dir_path, dir_names, filenames in os.walk(top_dir):\n",
    "        dir_names[:] = [\n",
    "            d\n",
    "            for d in dir_names\n",
    "            if d != \"scripts\" and d[0] not in \"._\" and \"venv\" not in d\n",
    "        ]\n",
    "        for filename in filenames:\n",
    "            if filename == \"__init__.py\":\n",
    "                continue\n",
    "            if os.path.splitext(filename)[1] in (\".py\", \".ipynb\"):\n",
    "                yield os.path.join(dir_path, filename).lstrip(\"./\")"
   ]
  },
  {
   "cell_type": "code",
   "execution_count": null,
   "id": "ac520e7f",
   "metadata": {},
   "outputs": [],
   "source": [
    "def md_prefix(i: int) -> str:\n",
    "    \"\"\"SENATOROV.\"\"\"\n",
    "    return f\"{i * '  '}*\" if i else \"\\n##\""
   ]
  },
  {
   "cell_type": "code",
   "execution_count": null,
   "id": "e1b6ef95",
   "metadata": {},
   "outputs": [],
   "source": [
    "def print_path(old_path: str, new_path: str) -> str:\n",
    "    \"\"\"SENATOROV.\"\"\"\n",
    "    old_parts = old_path.split(os.sep)\n",
    "    for i, new_part in enumerate(new_path.split(os.sep)):\n",
    "        if (i + 1 > len(old_parts) or old_parts[i] != new_part) and new_part:\n",
    "            print(f\"{md_prefix(i)} {new_part.replace('_', ' ').title()}\")\n",
    "    return new_path"
   ]
  },
  {
   "cell_type": "code",
   "execution_count": null,
   "id": "3bd182a9",
   "metadata": {},
   "outputs": [],
   "source": [
    "def print_directory_md(top_dir: str = \".\") -> None:\n",
    "    \"\"\"SENATOROV.\"\"\"\n",
    "    old_path = \"\"\n",
    "    for filepath in sorted(good_file_paths(top_dir)):\n",
    "        filepath, filename = os.path.split(filepath)\n",
    "        if filepath != old_path:\n",
    "            old_path = print_path(old_path, filepath)\n",
    "        indent = (filepath.count(os.sep) + 1) if filepath else 0\n",
    "        url = f\"{filepath}/{filename}\".replace(\" \", \"%20\")\n",
    "        filename = os.path.splitext(filename.replace(\"_\", \" \").title())[0]\n",
    "        print(f\"{md_prefix(indent)} [{filename}]({url})\")"
   ]
  },
  {
   "cell_type": "code",
   "execution_count": null,
   "id": "8ce659de",
   "metadata": {},
   "outputs": [],
   "source": [
    "if __name__ == \"__main__\":\n",
    "    print_directory_md(\".\")"
   ]
  }
 ],
 "metadata": {
  "jupytext": {
   "cell_metadata_filter": "-all",
   "executable": "/usr/bin/env python3",
   "formats": "py:light,ipynb",
   "main_language": "python"
  }
 },
 "nbformat": 4,
 "nbformat_minor": 5
}
